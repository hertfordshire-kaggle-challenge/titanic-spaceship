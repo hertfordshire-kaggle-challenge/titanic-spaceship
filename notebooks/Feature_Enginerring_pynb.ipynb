{
  "nbformat": 4,
  "nbformat_minor": 0,
  "metadata": {
    "colab": {
      "provenance": []
    },
    "kernelspec": {
      "name": "python3",
      "display_name": "Python 3"
    },
    "language_info": {
      "name": "python"
    }
  },
  "cells": [
    {
      "cell_type": "code",
      "source": [
        "import pandas as pd"
      ],
      "metadata": {
        "id": "B0s9xpss2Uge"
      },
      "execution_count": null,
      "outputs": []
    },
    {
      "cell_type": "code",
      "source": [
        "pre_process_df = pd.read_csv('pre_processed_train.csv')\n",
        "pre_process_df_test =  pd.read_csv('pre_process_df_test.csv')"
      ],
      "metadata": {
        "id": "_hymx5O_csOb"
      },
      "execution_count": null,
      "outputs": []
    },
    {
      "cell_type": "markdown",
      "source": [
        "### Feature Engineering"
      ],
      "metadata": {
        "id": "utIpGMKfkcGO"
      }
    },
    {
      "cell_type": "code",
      "source": [
        "#Function for Feature Engineering\n",
        "def feat_eng(df):\n",
        "\n",
        "    def mul_two_categorical_columns(df1,df2):\n",
        "      result = pd.DataFrame(index=df1.index)\n",
        "      for col1 in df1.columns:\n",
        "          for col2 in df2.columns:\n",
        "              result[col1 + \"_\" + col2] = df1[col1] * df2[col2]\n",
        "      return result\n",
        "\n",
        "    money_columns = ['RoomService', 'FoodCourt', 'ShoppingMall', 'Spa', 'VRDeck']\n",
        "    df['total_spend'] = df[money_columns].sum(axis=1)\n",
        "    df['avg_spend'] = df[money_columns].mean(axis=1)\n",
        "    df['max_spend'] = df[money_columns].max(axis=1)\n",
        "    df['min_spend'] = df[money_columns].max(axis=1)\n",
        "\n",
        "    for col in money_columns:\n",
        "      df[f\"{col}_spent_perc\"] = df[col]/df['total_spend']\n",
        "\n",
        "    group_counts = df.groupby('Passenger_group')['Passenger_group'].transform('count')\n",
        "    df['is_group'] = group_counts > 1\n",
        "\n",
        "    home_cyro = mul_two_categorical_columns(df.filter(like='HomePlanet_'),df.filter(like='CryoSleep_'))\n",
        "    home_destination = mul_two_categorical_columns(df.filter(like='HomePlanet_'),df.filter(like='Destination_'))\n",
        "    destination_cyro = mul_two_categorical_columns(df.filter(like='Destination_'),df.filter(like='CryoSleep_'))\n",
        "\n",
        "    df = pd.concat([df,home_cyro,home_destination,destination_cyro],axis=1)\n",
        "    df = df.fillna(0)\n",
        "    return df\n"
      ],
      "metadata": {
        "id": "iNKGlhORQo18"
      },
      "execution_count": null,
      "outputs": []
    },
    {
      "cell_type": "code",
      "source": [
        "feat_df = feat_eng(pre_process_df.copy())"
      ],
      "metadata": {
        "id": "19My0Il7_hI1"
      },
      "execution_count": null,
      "outputs": []
    },
    {
      "cell_type": "code",
      "source": [
        "feat_df_test = feat_eng(pre_process_df_test.copy())"
      ],
      "metadata": {
        "id": "rNSWt7KGHEnq"
      },
      "execution_count": null,
      "outputs": []
    },
    {
      "cell_type": "code",
      "source": [
        "feat_df.to_csv('feat_df_train.csv',index=False)\n",
        "feat_df_test.to_csv('feat_df_test.csv',index=False)"
      ],
      "metadata": {
        "id": "HhfT9N-tdgCg"
      },
      "execution_count": null,
      "outputs": []
    }
  ]
}