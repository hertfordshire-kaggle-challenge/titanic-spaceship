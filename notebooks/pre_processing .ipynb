{
  "nbformat": 4,
  "nbformat_minor": 0,
  "metadata": {
    "colab": {
      "provenance": []
    },
    "kernelspec": {
      "name": "python3",
      "display_name": "Python 3"
    },
    "language_info": {
      "name": "python"
    }
  },
  "cells": [
    {
      "cell_type": "markdown",
      "source": [
        "### Pre Processing"
      ],
      "metadata": {
        "id": "nQj9q8OMkV8m"
      }
    },
    {
      "cell_type": "code",
      "source": [
        "from sklearn.impute import SimpleImputer\n",
        "from sklearn.preprocessing import OneHotEncoder\n",
        "from sklearn.preprocessing import LabelEncoder\n",
        "import numpy as np\n",
        "import pandas as pd\n",
        "import pickle"
      ],
      "metadata": {
        "id": "_SSdjOVBgYfx"
      },
      "execution_count": null,
      "outputs": []
    },
    {
      "cell_type": "code",
      "source": [
        "train_df = pd.read_csv('train.csv')\n",
        "test_df = pd.read_csv('test.csv')"
      ],
      "metadata": {
        "id": "DUkdbpxUatmi"
      },
      "execution_count": null,
      "outputs": []
    },
    {
      "cell_type": "code",
      "source": [
        "#Function to Pre-process Dataset\n",
        "def pre_process_dataset(df,\n",
        "                        mode='Train',\n",
        "                        mean_imputer = None,\n",
        "                        mode_imputer = None,\n",
        "                        oh_encoder = None):\n",
        "\n",
        "  df['Cabin_deck'] = df['Cabin'].str.split(\"/\").str[0]\n",
        "  df['Cabin_num'] = df['Cabin'].str.split(\"/\").str[1].astype('float64')\n",
        "  df['Cabin_starboard'] = df['Cabin'].str.split(\"/\").str[2]\n",
        "\n",
        "  df['Passenger_group'] = df['PassengerId'].str.split(\"_\").str[0]\n",
        "\n",
        "  cat_columns = ['HomePlanet', 'CryoSleep', 'Destination', 'VIP', 'Cabin_deck','Cabin_starboard']\n",
        "  money_columns = ['RoomService', 'FoodCourt', 'ShoppingMall', 'Spa', 'VRDeck']\n",
        "\n",
        "  if mode== 'Train':\n",
        "    mean_imputer = SimpleImputer(strategy='mean')\n",
        "    mode_imputer = SimpleImputer(strategy='most_frequent')\n",
        "    oh_encoder = OneHotEncoder(sparse_output=False,handle_unknown='ignore')\n",
        "    label_encoder = LabelEncoder()\n",
        "\n",
        "\n",
        "\n",
        "    df[['Age']] = mean_imputer.fit_transform(df[['Age']])\n",
        "    df[cat_columns] = mode_imputer\\\n",
        "                .fit_transform(df[cat_columns] )\n",
        "\n",
        "\n",
        "    one_hot = oh_encoder.fit_transform(df[cat_columns])\n",
        "    one_hot = pd.DataFrame(one_hot,columns = oh_encoder.get_feature_names_out(),index=df.index)\n",
        "    df = pd.concat([df,one_hot],axis=1)\n",
        "    df['Transported'] = label_encoder.fit_transform(df['Transported'])\n",
        "\n",
        "  else:\n",
        "    df[['Age']] = mean_imputer.transform(df[['Age']])\n",
        "    df[cat_columns] = mode_imputer\\\n",
        "                .transform(df[cat_columns] )\n",
        "\n",
        "\n",
        "    one_hot = oh_encoder.transform(df[cat_columns])\n",
        "    one_hot = pd.DataFrame(one_hot,columns = oh_encoder.get_feature_names_out(),index=df.index)\n",
        "    df = pd.concat([df,one_hot],axis=1)\n",
        "\n",
        "  df[money_columns] = df[money_columns].fillna(0)\n",
        "  df['Cabin_num'] = df['Cabin_num'].fillna(-1)\n",
        "\n",
        "  if mode == 'Train':\n",
        "    df = df.drop(columns=['Name','Cabin','PassengerId'])\n",
        "    return df,mean_imputer, mode_imputer, oh_encoder,label_encoder\n",
        "  else:\n",
        "    df = df.drop(columns=['Name','Cabin'])\n",
        "    return df"
      ],
      "metadata": {
        "id": "d0s5F_jaqrF0"
      },
      "execution_count": null,
      "outputs": []
    },
    {
      "cell_type": "code",
      "source": [
        "pre_process_df,mean_imputer, mode_imputer, oh_encoder,label_encoder = pre_process_dataset(train_df.copy(),'Train')"
      ],
      "metadata": {
        "id": "r-B8kSmd3ski"
      },
      "execution_count": null,
      "outputs": []
    },
    {
      "cell_type": "code",
      "source": [
        "pre_process_df_test = pre_process_dataset(test_df.copy(),'Test',mean_imputer, mode_imputer, oh_encoder)"
      ],
      "metadata": {
        "id": "B0s9xpss2Uge"
      },
      "execution_count": null,
      "outputs": []
    },
    {
      "cell_type": "code",
      "source": [
        "pre_process_df.to_csv('pre_processed_train.csv',index=False)\n",
        "pre_process_df_test.to_csv('pre_process_df_test.csv',index=False)"
      ],
      "metadata": {
        "id": "lTf_o9YPcPhF"
      },
      "execution_count": null,
      "outputs": []
    },
    {
      "cell_type": "code",
      "source": [
        "import pickle\n",
        "objects_to_save = {\n",
        "    'mean_imputer': mean_imputer,\n",
        "    'mode_imputer': mode_imputer,\n",
        "    'oh_encoder': oh_encoder,\n",
        "    'label_encoder': label_encoder\n",
        "}\n",
        "\n",
        "# Save the dictionary to a file\n",
        "with open('saved_objects.pkl', 'wb') as f:\n",
        "    pickle.dump(objects_to_save, f)\n"
      ],
      "metadata": {
        "id": "bQkaZcKJc52p"
      },
      "execution_count": null,
      "outputs": []
    }
  ]
}